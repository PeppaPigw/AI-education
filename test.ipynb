{
 "cells": [
  {
   "cell_type": "code",
   "execution_count": 3,
   "id": "c17292ff",
   "metadata": {},
   "outputs": [
    {
     "name": "stdout",
     "output_type": "stream",
     "text": [
      "inclusionAI/Ling-mini-2.0\n",
      "https://api.siliconflow.cn\n",
      "sk-iujgwjycqgmvzxycfgyynuowipaykmbbcneerzvdnehpqvfs\n"
     ]
    }
   ],
   "source": [
    "from dotenv import load_dotenv\n",
    "import os\n",
    "\n",
    "model_name=os.environ.get(\"model_name\")\n",
    "base_url=os.environ.get(\"base_url\")\n",
    "api_key=os.environ.get(\"api_key\")\n",
    "print(model_name)\n",
    "print(base_url)\n",
    "print(api_key)"
   ]
  },
  {
   "cell_type": "code",
   "execution_count": 5,
   "id": "840eda6d",
   "metadata": {},
   "outputs": [
    {
     "name": "stdout",
     "output_type": "stream",
     "text": [
      "--- 正在初始化嵌入模型 ---\n",
      "Base URL: https://api.siliconflow.cn/v1\n",
      "Model: Qwen/Qwen3-Embedding-0.6B\n",
      "\n",
      "--- 正在请求嵌入向量 ---\n",
      "✅ 成功嵌入查询 '你好，世界！'\n",
      "向量维度: 1024\n",
      "\n",
      "✅ 成功嵌入 3 个文档\n",
      "所有向量维度是否一致: True (维度: 1024)\n",
      "\n",
      "🌟 嵌入模型测试成功！\n"
     ]
    }
   ],
   "source": [
    "import os\n",
    "from langchain_openai import OpenAIEmbeddings\n",
    "from dotenv import load_dotenv\n",
    "\n",
    "\n",
    "load_dotenv() \n",
    "\n",
    "BASE_URL = \"https://api.siliconflow.cn/v1\"\n",
    "API_KEY = \"sk-iujgwjycqgmvzxycfgyynuowipaykmbbcneerzvdnehpqvfs\"\n",
    "EMBEDDING_MODEL = \"Qwen/Qwen3-Embedding-0.6B\"\n",
    "\n",
    "# --- 测试函数 ---\n",
    "def test_custom_embedding():\n",
    "    \"\"\"\n",
    "    使用自定义 base_url 和模型测试 OpenAIEmbeddings。\n",
    "    \"\"\"\n",
    "    test_texts = [\n",
    "        \"你好，世界！\",\n",
    "        \"Hello, World!\",\n",
    "        \"什么是向量嵌入？\"\n",
    "    ]\n",
    "    \n",
    "    print(\"--- 正在初始化嵌入模型 ---\")\n",
    "    print(f\"Base URL: {BASE_URL}\")\n",
    "    print(f\"Model: {EMBEDDING_MODEL}\")\n",
    "    \n",
    "    try:\n",
    "        # 使用 OpenAIEmbeddings 初始化嵌入模型，并指定自定义参数\n",
    "        # ⚠️ 注意：api_key 和 openai_api_base 是关键\n",
    "        embeddings = OpenAIEmbeddings(\n",
    "            model=EMBEDDING_MODEL,\n",
    "            openai_api_base=BASE_URL,\n",
    "            openai_api_key=API_KEY\n",
    "            # 其他参数（如 chunk_size）如果需要也可以在这里设置\n",
    "        )\n",
    "        \n",
    "        print(\"\\n--- 正在请求嵌入向量 ---\")\n",
    "        \n",
    "        # 1. 测试单句嵌入\n",
    "        query = test_texts[0]\n",
    "        embedding_vector = embeddings.embed_query(query)\n",
    "        print(f\"✅ 成功嵌入查询 '{query}'\")\n",
    "        print(f\"向量维度: {len(embedding_vector)}\")\n",
    "        # print(f\"部分向量值: {embedding_vector[:5]}...\") # 可选：打印部分向量\n",
    "        \n",
    "        # 2. 测试多句嵌入 (Documents)\n",
    "        document_embeddings = embeddings.embed_documents(test_texts)\n",
    "        print(f\"\\n✅ 成功嵌入 {len(document_embeddings)} 个文档\")\n",
    "        \n",
    "        # 检查所有返回的向量是否维度一致\n",
    "        first_dim = len(document_embeddings[0])\n",
    "        all_match = all(len(vec) == first_dim for vec in document_embeddings)\n",
    "        print(f\"所有向量维度是否一致: {all_match} (维度: {first_dim})\")\n",
    "        \n",
    "        print(\"\\n🌟 嵌入模型测试成功！\")\n",
    "        \n",
    "    except Exception as e:\n",
    "        # 如果出现 404 Not Found 或其他 API 错误，将在这里捕获\n",
    "        print(f\"\\n❌ 嵌入模型测试失败！请检查配置和服务：\")\n",
    "        print(f\"错误类型: {type(e).__name__}\")\n",
    "        print(f\"错误信息: {e}\")\n",
    "        print(\"\\n💡 检查建议：1. 确认 base_url 和 api_key 正确； 2. 确认模型名称 'Qwen/Qwen3-Embedding-0.6B' 在该服务上可用。\")\n",
    "\n",
    "\n",
    "if __name__ == \"__main__\":\n",
    "    test_custom_embedding()"
   ]
  },
  {
   "cell_type": "code",
   "execution_count": null,
   "id": "16b1856c",
   "metadata": {},
   "outputs": [],
   "source": []
  }
 ],
 "metadata": {
  "kernelspec": {
   "display_name": "LangChain",
   "language": "python",
   "name": "python3"
  },
  "language_info": {
   "codemirror_mode": {
    "name": "ipython",
    "version": 3
   },
   "file_extension": ".py",
   "mimetype": "text/x-python",
   "name": "python",
   "nbconvert_exporter": "python",
   "pygments_lexer": "ipython3",
   "version": "3.12.3"
  }
 },
 "nbformat": 4,
 "nbformat_minor": 5
}
