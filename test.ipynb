{
 "cells": [
  {
   "cell_type": "code",
   "execution_count": 3,
   "id": "c17292ff",
   "metadata": {},
   "outputs": [
    {
     "name": "stdout",
     "output_type": "stream",
     "text": [
      "inclusionAI/Ling-mini-2.0\n",
      "https://api.siliconflow.cn\n",
      "sk-iujgwjycqgmvzxycfgyynuowipaykmbbcneerzvdnehpqvfs\n"
     ]
    }
   ],
   "source": [
    "from dotenv import load_dotenv\n",
    "import os\n",
    "\n",
    "model_name=os.environ.get(\"model_name\")\n",
    "base_url=os.environ.get(\"base_url\")\n",
    "api_key=os.environ.get(\"api_key\")\n",
    "print(model_name)\n",
    "print(base_url)\n",
    "print(api_key)"
   ]
  },
  {
   "cell_type": "code",
   "execution_count": 5,
   "id": "840eda6d",
   "metadata": {},
   "outputs": [
    {
     "name": "stdout",
     "output_type": "stream",
     "text": [
      "--- 正在初始化嵌入模型 ---\n",
      "Base URL: https://api.siliconflow.cn/v1\n",
      "Model: Qwen/Qwen3-Embedding-0.6B\n",
      "\n",
      "--- 正在请求嵌入向量 ---\n",
      "✅ 成功嵌入查询 '你好，世界！'\n",
      "向量维度: 1024\n",
      "\n",
      "✅ 成功嵌入 3 个文档\n",
      "所有向量维度是否一致: True (维度: 1024)\n",
      "\n",
      "🌟 嵌入模型测试成功！\n"
     ]
    }
   ],
   "source": [
    "import os\n",
    "from langchain_openai import OpenAIEmbeddings\n",
    "from dotenv import load_dotenv\n",
    "\n",
    "\n",
    "load_dotenv() \n",
    "\n",
    "BASE_URL = \"https://api.siliconflow.cn/v1\"\n",
    "API_KEY = \"sk-iujgwjycqgmvzxycfgyynuowipaykmbbcneerzvdnehpqvfs\"\n",
    "EMBEDDING_MODEL = \"Qwen/Qwen3-Embedding-0.6B\"\n",
    "\n",
    "# --- 测试函数 ---\n",
    "def test_custom_embedding():\n",
    "    \"\"\"\n",
    "    使用自定义 base_url 和模型测试 OpenAIEmbeddings。\n",
    "    \"\"\"\n",
    "    test_texts = [\n",
    "        \"你好，世界！\",\n",
    "        \"Hello, World!\",\n",
    "        \"什么是向量嵌入？\"\n",
    "    ]\n",
    "    \n",
    "    print(\"--- 正在初始化嵌入模型 ---\")\n",
    "    print(f\"Base URL: {BASE_URL}\")\n",
    "    print(f\"Model: {EMBEDDING_MODEL}\")\n",
    "    \n",
    "    try:\n",
    "        # 使用 OpenAIEmbeddings 初始化嵌入模型，并指定自定义参数\n",
    "        # ⚠️ 注意：api_key 和 openai_api_base 是关键\n",
    "        embeddings = OpenAIEmbeddings(\n",
    "            model=EMBEDDING_MODEL,\n",
    "            openai_api_base=BASE_URL,\n",
    "            openai_api_key=API_KEY\n",
    "            # 其他参数（如 chunk_size）如果需要也可以在这里设置\n",
    "        )\n",
    "        \n",
    "        print(\"\\n--- 正在请求嵌入向量 ---\")\n",
    "        \n",
    "        # 1. 测试单句嵌入\n",
    "        query = test_texts[0]\n",
    "        embedding_vector = embeddings.embed_query(query)\n",
    "        print(f\"✅ 成功嵌入查询 '{query}'\")\n",
    "        print(f\"向量维度: {len(embedding_vector)}\")\n",
    "        # print(f\"部分向量值: {embedding_vector[:5]}...\") # 可选：打印部分向量\n",
    "        \n",
    "        # 2. 测试多句嵌入 (Documents)\n",
    "        document_embeddings = embeddings.embed_documents(test_texts)\n",
    "        print(f\"\\n✅ 成功嵌入 {len(document_embeddings)} 个文档\")\n",
    "        \n",
    "        # 检查所有返回的向量是否维度一致\n",
    "        first_dim = len(document_embeddings[0])\n",
    "        all_match = all(len(vec) == first_dim for vec in document_embeddings)\n",
    "        print(f\"所有向量维度是否一致: {all_match} (维度: {first_dim})\")\n",
    "        \n",
    "        print(\"\\n🌟 嵌入模型测试成功！\")\n",
    "        \n",
    "    except Exception as e:\n",
    "        # 如果出现 404 Not Found 或其他 API 错误，将在这里捕获\n",
    "        print(f\"\\n❌ 嵌入模型测试失败！请检查配置和服务：\")\n",
    "        print(f\"错误类型: {type(e).__name__}\")\n",
    "        print(f\"错误信息: {e}\")\n",
    "        print(\"\\n💡 检查建议：1. 确认 base_url 和 api_key 正确； 2. 确认模型名称 'Qwen/Qwen3-Embedding-0.6B' 在该服务上可用。\")\n",
    "\n",
    "\n",
    "if __name__ == \"__main__\":\n",
    "    test_custom_embedding()"
   ]
  },
  {
   "cell_type": "code",
   "execution_count": 1,
   "id": "16b1856c",
   "metadata": {},
   "outputs": [
    {
     "name": "stderr",
     "output_type": "stream",
     "text": [
      "Number of requested results 20 is greater than number of elements in index 2, updating n_results = 2\n",
      "Number of requested results 20 is greater than number of elements in index 2, updating n_results = 2\n",
      "Number of requested results 20 is greater than number of elements in index 2, updating n_results = 2\n",
      "Number of requested results 20 is greater than number of elements in index 2, updating n_results = 2\n",
      "Number of requested results 20 is greater than number of elements in index 2, updating n_results = 2\n"
     ]
    },
    {
     "name": "stdout",
     "output_type": "stream",
     "text": [
      "[Document(id='a6aa821c-e17e-48db-a259-43b5014c94fe', metadata={'doc_hash': '7693ca5a8319b887909f04b47f538811790192df9dff8eb33d93a8ed5a2928b0', 'page': 1, 'source': 'data/RAG_files/test.pdf'}, page_content=' -2- \\n前实际问题综合能力，最后还要具有把自己的实践过程和结果叙述成文字的写作能力。\\n通过数学建模全过程的各个环节，学生们进行着创造性的思维活动，模拟了现代科学研\\n究过程。通过“数学建模”课程的教学和数学建模活动极大地开发了学生的创造性思维\\n的能力，培养学生在面对错综复杂的实际问题时，具有敏锐的观察力和洞察力，以及丰\\n富的想象力。因此，“数学建模”课程在培养学生的创新能力方面有着其它课程不可替\\n代的作用。 \\n几年的“数学建模”教学实践告诉我们，进行数学建模教学，为学生提供一本内容\\n丰富，既理论完整又实用的“数学建模”教材，使学生少走弯路尤为重要。这也是我们\\n编写这本教材的初衷。本教材可以说既是我们多年教学经验的总结，也是我们心血的结\\n晶。本教材的特点是尽量为学生提供常用的数学方法，并将相应的 Matlab 程序提供给\\n学生，使学生在进行书中提供的案例的学习中，在自己动手构建数学模型的同时上机进\\n行数学实验，从而为学生提供数学建模全过程的训练，以便能够达到举一反三，取得事\\n半功倍的教学效果。司守奎同志编写了全部的 Matlab 程序，参加本书编写的还有毛凯\\n同志。 \\n全书共二十四章，各章有一定的独立性，这样便于教师和学生按需要进行选择。完\\n成本教材的教学大约需要 60 学时，其中方法教学与上机实践的比例一般不应少于\\n1:1 。 \\n一本好的教材需要经过多年的教学实践，反复锤炼。由于我们的经验和时间所限，\\n书中的错误和纰漏在所难免，敬请同行不吝指正。 \\n \\n \\n                                                           \\n                                            编者 \\n                                         2 0 0 3 年12 月 '), Document(id='09cd9b26-947a-48d2-8d54-140a64402b5d', metadata={'doc_hash': '78f5cb34087e633c5de43b3dc5ef475bc22db1547070cf5d9cadabbb1b92df2d', 'page': 0, 'source': 'data/RAG_files/test.pdf'}, page_content=' -1- \\n \\n前    言 \\n今天，人类社会正处在由工业化社会向信息化社会过渡的变革。以数字化为特征的\\n信息社会有两个显著特点：计算机技术的迅速发展与广泛应用；数学的应用向一切领域\\n渗透。随着计算机技术的飞速发展，科学计算的作用越来越引起人们的广泛重视，它已\\n经与科学理论和科学实验并列成为人们探索和研究自然界、人类社会的三大基本方法。\\n为了适应这种社会的变革，培养和造就出一批又一批适应高度信息化社会具有创新能力\\n的高素质的工程技术和管理人才，在各高校开设“数学建模”课程，培养学生的科学计\\n算能力和创新能力，就成为这种新形势下的历史必然。 \\n    数学建模是对现实世界的特定对象，为了特定的目的，根据特有的内在规律，对其\\n进行必要的抽象、归纳、假设和简化，运用适当的数学工具建立的一个数学结构。数学\\n建模就是运用数学的思想方法、数学的语言去近似地刻画一个实际研究对象，构建一座\\n沟通现实世界与数学世界的桥梁，并以计算机为工具应用现代计算技术达到解决各种实\\n际问题的目的。建立一个数学模型的全过程称为数学建模。因此“数学建模”（或数学\\n实验）课程教学对于开发学生的创新意识，提升人的数学素养，培养学生创造性地应用\\n数学工具解决实际问题的能力，有着独特的功能。 \\n数学建模过程就是一个创造性的工作过程。人的创新能力首先是创造性思维和具备\\n创新的思想方法。数学本身是一门理性思维科学，数学教学正是通过各个教学环节对学\\n生进行严格的科学思维方法的训练，从而引发人的灵感思维，达到培养学生的创造性思\\n维的能力。同时数学又是一门实用科学，它具有能直接用于生产和实践，解决工程实际\\n中提出的问题，推动生产力的发展和科学技术的进步。学生参加数学建模活动，首先就\\n要了解问题的实际背景，深入到具体学科领域的前沿，这就需要学生具有能迅速查阅大\\n量科学资料，准确获得自己所需信息的能力；同时，不但要求学生必需了解现代数学各\\n门学科知识和各种数学方法，把所掌握的数学工具创造性地应用于具体的实际问题，构\\n建其数学结构，还要求学生熟悉各种数学软件，熟练地把现代计算机技术应用于解决当')]\n"
     ]
    }
   ],
   "source": [
    "# 测试RAG服务\n",
    "from tools.rag_service import RAGService\n",
    "print(RAGService().get_retriever().invoke(\"test query\"))"
   ]
  },
  {
   "cell_type": "code",
   "execution_count": 3,
   "id": "9299e802",
   "metadata": {},
   "outputs": [
    {
     "name": "stderr",
     "output_type": "stream",
     "text": [
      "/var/folders/ht/4jjty8q968j2gdkv4hs8_6_c0000gq/T/ipykernel_39226/2692237499.py:2: LangChainDeprecationWarning: The method `BaseTool.__call__` was deprecated in langchain-core 0.1.47 and will be removed in 1.0. Use :meth:`~invoke` instead.\n",
      "  print(rag_search(\"your question about PDF content\"))\n",
      "/Users/pigpeppa/Downloads/AI-education/tools/rag_utils.py:23: LangChainDeprecationWarning: The method `BaseRetriever.get_relevant_documents` was deprecated in langchain-core 0.1.46 and will be removed in 1.0. Use :meth:`~invoke` instead.\n",
      "  docs = retriever.get_relevant_documents(query)\n",
      "Number of requested results 20 is greater than number of elements in index 2, updating n_results = 2\n",
      "Number of requested results 20 is greater than number of elements in index 2, updating n_results = 2\n",
      "Number of requested results 20 is greater than number of elements in index 2, updating n_results = 2\n"
     ]
    },
    {
     "name": "stdout",
     "output_type": "stream",
     "text": [
      "No relevant document context found\n"
     ]
    }
   ],
   "source": [
    "from AgentModule.edu_agent import rag_search\n",
    "print(rag_search(\"your question about PDF content\"))"
   ]
  },
  {
   "cell_type": "code",
   "execution_count": 1,
   "id": "d3831b38",
   "metadata": {},
   "outputs": [
    {
     "name": "stderr",
     "output_type": "stream",
     "text": [
      "/opt/anaconda3/envs/LangChain/lib/python3.12/site-packages/tqdm/auto.py:21: TqdmWarning: IProgress not found. Please update jupyter and ipywidgets. See https://ipywidgets.readthedocs.io/en/stable/user_install.html\n",
      "  from .autonotebook import tqdm as notebook_tqdm\n"
     ]
    },
    {
     "name": "stdout",
     "output_type": "stream",
     "text": [
      "--- 🔍 最小測試腳本診斷資訊 ---\n",
      "Python Executable: /opt/anaconda3/envs/LangChain/bin/python\n",
      "Gradio Version: 4.44.1\n",
      "Gradio File Location: /opt/anaconda3/envs/LangChain/lib/python3.12/site-packages/gradio/__init__.py\n",
      "--------------------\n"
     ]
    },
    {
     "ename": "AttributeError",
     "evalue": "'Plot' object has no attribute 'select'",
     "output_type": "error",
     "traceback": [
      "\u001b[31m---------------------------------------------------------------------------\u001b[39m",
      "\u001b[31mAttributeError\u001b[39m                            Traceback (most recent call last)",
      "\u001b[36mCell\u001b[39m\u001b[36m \u001b[39m\u001b[32mIn[1]\u001b[39m\u001b[32m, line 39\u001b[39m\n\u001b[32m     35\u001b[39m     output_text = gr.Textbox(label=\u001b[33m\"\u001b[39m\u001b[33mSelected Point\u001b[39m\u001b[33m\"\u001b[39m)\n\u001b[32m     37\u001b[39m     \u001b[38;5;66;03m# 綁定 select 事件監聽器\u001b[39;00m\n\u001b[32m     38\u001b[39m     \u001b[38;5;66;03m# 這一行就是在你的應用中出錯的地方\u001b[39;00m\n\u001b[32m---> \u001b[39m\u001b[32m39\u001b[39m     \u001b[43mplot_component\u001b[49m\u001b[43m.\u001b[49m\u001b[43mselect\u001b[49m(fn=simple_plot_select_handler, outputs=[output_text])\n\u001b[32m     41\u001b[39m \u001b[38;5;28mprint\u001b[39m(\u001b[33m\"\u001b[39m\u001b[33m🚀 正在啟動最小化測試應用程式...\u001b[39m\u001b[33m\"\u001b[39m)\n\u001b[32m     42\u001b[39m demo.launch()\n",
      "\u001b[31mAttributeError\u001b[39m: 'Plot' object has no attribute 'select'"
     ]
    }
   ],
   "source": [
    "# test_plot.py\n",
    "import gradio as gr\n",
    "import plotly.graph_objects as go\n",
    "import sys\n",
    "\n",
    "print(\"--- 🔍 最小測試腳本診斷資訊 ---\")\n",
    "print(f\"Python Executable: {sys.executable}\")\n",
    "print(f\"Gradio Version: {gr.__version__}\")\n",
    "print(f\"Gradio File Location: {gr.__file__}\")\n",
    "print(\"-\" * 20)\n",
    "\n",
    "def simple_plot_select_handler(evt: gr.SelectData):\n",
    "    \"\"\"當圖表上的點被點擊時，這個函數會在控制台打印資訊。\"\"\"\n",
    "    if evt:\n",
    "        print(f\"✅ 事件觸發成功！你選擇了帶有 customdata 的點: {evt.customdata}\")\n",
    "    return f\"You selected: {evt.customdata}\"\n",
    "\n",
    "# 為測試創建一個簡單的 Plotly 圖表\n",
    "fig = go.Figure()\n",
    "fig.add_trace(go.Scatter(\n",
    "    x=[1, 2, 3, 4],\n",
    "    y=[10, 11, 12, 13],\n",
    "    mode='markers',\n",
    "    marker=dict(size=20),\n",
    "    customdata=['A', 'B', 'C', 'D'] # 添加自定義數據以供測試\n",
    "))\n",
    "\n",
    "# 建立最小的 Gradio 介面\n",
    "with gr.Blocks() as demo:\n",
    "    gr.Markdown(\"# 最小化 Plot Select 測試\")\n",
    "    gr.Markdown(\"請點擊下面的一個點，然後查看運行此腳本的終端視窗。\")\n",
    "    \n",
    "    # 創建 Plot 組件\n",
    "    plot_component = gr.Plot(value=fig)\n",
    "    output_text = gr.Textbox(label=\"Selected Point\")\n",
    "\n",
    "    # 綁定 select 事件監聽器\n",
    "    # 這一行就是在你的應用中出錯的地方\n",
    "    plot_component.select(fn=simple_plot_select_handler, outputs=[output_text])\n",
    "\n",
    "print(\"🚀 正在啟動最小化測試應用程式...\")\n",
    "demo.launch()"
   ]
  },
  {
   "cell_type": "code",
   "execution_count": null,
   "id": "d14b37ba",
   "metadata": {},
   "outputs": [],
   "source": []
  },
  {
   "cell_type": "code",
   "execution_count": null,
   "id": "6a223739",
   "metadata": {},
   "outputs": [],
   "source": []
  },
  {
   "cell_type": "code",
   "execution_count": null,
   "id": "2062da98",
   "metadata": {},
   "outputs": [],
   "source": []
  }
 ],
 "metadata": {
  "kernelspec": {
   "display_name": "LangChain",
   "language": "python",
   "name": "python3"
  },
  "language_info": {
   "codemirror_mode": {
    "name": "ipython",
    "version": 3
   },
   "file_extension": ".py",
   "mimetype": "text/x-python",
   "name": "python",
   "nbconvert_exporter": "python",
   "pygments_lexer": "ipython3",
   "version": "3.12.3"
  }
 },
 "nbformat": 4,
 "nbformat_minor": 5
}
